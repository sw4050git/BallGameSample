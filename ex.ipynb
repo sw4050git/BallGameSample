{
  "nbformat": 4,
  "nbformat_minor": 0,
  "metadata": {
    "colab": {
      "name": "ex.ipynb",
      "provenance": [],
      "collapsed_sections": [],
      "mount_file_id": "1PxB5XhDagLy6Wtrcw7z7ulu1Q9VZzPy0",
      "authorship_tag": "ABX9TyNokv/E/w0786a5LwPCZ9xf",
      "include_colab_link": true
    },
    "kernelspec": {
      "name": "python3",
      "display_name": "Python 3"
    },
    "language_info": {
      "name": "python"
    }
  },
  "cells": [
    {
      "cell_type": "markdown",
      "metadata": {
        "id": "view-in-github",
        "colab_type": "text"
      },
      "source": [
        "<a href=\"https://colab.research.google.com/github/sw4050git/BallGameSample/blob/master/ex.ipynb\" target=\"_parent\"><img src=\"https://colab.research.google.com/assets/colab-badge.svg\" alt=\"Open In Colab\"/></a>"
      ]
    },
    {
      "cell_type": "code",
      "execution_count": null,
      "metadata": {
        "colab": {
          "base_uri": "https://localhost:8080/"
        },
        "id": "lXVKMpzI3arw",
        "outputId": "e564ed23-84d1-419a-f4f6-8e18497d72bf"
      },
      "outputs": [
        {
          "output_type": "stream",
          "name": "stdout",
          "text": [
            "/content/drive/MyDrive/検索技術/ex\n"
          ]
        }
      ],
      "source": [
        "cd /content/drive/MyDrive/検索技術/ex/"
      ]
    },
    {
      "cell_type": "code",
      "source": [
        "import os\n",
        "from PIL import Image\n",
        "import numpy as np\n",
        "from sklearn import svm, metrics\n",
        "from sklearn.cluster import KMeans\n",
        "import matplotlib.pyplot as plt\n",
        "from sklearn.decomposition import IncrementalPCA\n",
        "%matplotlib inline\n",
        " \n",
        "np.random.seed(5)\n"
      ],
      "metadata": {
        "id": "i_e_ymIy3e01"
      },
      "execution_count": null,
      "outputs": []
    },
    {
      "cell_type": "code",
      "source": [
        "train_img_paths = []\n",
        "train_labels=[]\n",
        "for root,subdir,files in os.walk(\"./train_img/\") :\n",
        "    for s in subdir : \n",
        "      for r, d ,f in os.walk(root+s):\n",
        "        for file in f:\n",
        "          train_labels.append(os.path.join(r, file).split('/')[-2])\n",
        "          train_img_paths.append(os.path.join(r, file))\n",
        "print(train_img_paths)"
      ],
      "metadata": {
        "colab": {
          "base_uri": "https://localhost:8080/"
        },
        "id": "V_DLsaAM4BMS",
        "outputId": "cf8e4118-40b5-455e-86db-478be9927e6b"
      },
      "execution_count": null,
      "outputs": [
        {
          "output_type": "stream",
          "name": "stdout",
          "text": [
            "['./train_img/s/C_101034010.png', './train_img/s/C_101024040.png', './train_img/s/C_101024030.png', './train_img/s/C_101014010.png', './train_img/s/C_101014030.png', './train_img/s/C_101014020.png', './train_img/s/C_101024020.png', './train_img/s/C_101024010.png', './train_img/s/C_101534010.png', './train_img/s/C_101524020.png', './train_img/s/C_101524010.png', './train_img/s/C_101514040.png', './train_img/s/C_101514030.png', './train_img/s/C_101414040.png', './train_img/s/C_101414030.png', './train_img/s/C_101424010.png', './train_img/s/C_101424020.png', './train_img/s/C_101514020.png', './train_img/s/C_101514010.png', './train_img/s/C_101414020.png', './train_img/s/C_101414010.png', './train_img/s/C_101334050.png', './train_img/s/C_101324030.png', './train_img/s/C_101334030.png', './train_img/s/C_101334040.png', './train_img/s/C_101324040.png', './train_img/s/C_101324020.png', './train_img/s/C_101334010.png', './train_img/s/C_101324050.png', './train_img/s/C_101324010.png', './train_img/s/C_101314040.png', './train_img/s/C_101314030.png', './train_img/s/C_101214020.png', './train_img/s/C_101234010.png', './train_img/s/C_101234020.png', './train_img/s/C_101224010.png', './train_img/s/C_101314020.png', './train_img/s/C_101314010.png', './train_img/s/C_101214030.png', './train_img/s/C_101214010.png', './train_img/s/C_101134030.png', './train_img/s/C_101134020.png', './train_img/s/C_101114040.png', './train_img/s/C_101114060.png', './train_img/s/C_101114050.png', './train_img/s/C_101114010.png', './train_img/s/C_101114020.png', './train_img/s/C_101134010.png', './train_img/s/C_101114030.png', './train_img/s/C_101334020.png', './train_img/f/C_101111030.png', './train_img/f/C_101021010.png', './train_img/f/C_101011010.png', './train_img/f/C_101621060.png', './train_img/f/C_101611040.png', './train_img/f/C_101521010.png', './train_img/f/C_101511120.png', './train_img/f/C_101411010.png', './train_img/f/C_101211120.png', './train_img/f/C_101211010.png', './train_img/f/C_101111020.png', './train_img/f/C_101111010.png', './train_img/f/C_101311020.png', './train_img/f/C_101311010.png', './train_img/f/C_101221090.png', './train_img/f/C_101221080.png', './train_img/f/C_101221020.png', './train_img/f/C_101221010.png', './train_img/f/C_101211110.png', './train_img/f/C_101211050.png', './train_img/f/C_101211040.png', './train_img/f/C_101211030.png', './train_img/f/C_101211020.png', './train_img/f/C_101131020.png', './train_img/f/C_101121020.png', './train_img/f/C_101111090.png', './train_img/f/C_101111070.png', './train_img/f/C_101111040.png', './train_img/f/C_101621070.png', './train_img/f/C_101621020.png', './train_img/f/C_101611050.png', './train_img/f/C_101611030.png', './train_img/f/C_101611020.png', './train_img/f/C_101611010.png', './train_img/f/C_101521020.png', './train_img/f/C_101511110.png', './train_img/f/C_101511060.png', './train_img/f/C_101511020.png', './train_img/f/C_101511010.png', './train_img/f/C_101431040.png', './train_img/f/C_101431010.png', './train_img/f/C_101411110.png', './train_img/f/C_101411060.png', './train_img/f/C_101411020.png', './train_img/f/C_101321040.png', './train_img/f/C_101311060.png', './train_img/f/C_101721060.png', './train_img/f/C_101711090.png', './train_img/f/C_101711020.png', './train_img/f/C_101711010.png', './train_img/a/C_101113010.png', './train_img/a/C_101112010.png', './train_img/a/C_101032010.png', './train_img/a/C_101122020.png', './train_img/a/C_101232020.png', './train_img/a/C_101312010.png', './train_img/a/C_101222010.png', './train_img/a/C_101122010.png', './train_img/a/C_101132010.png', './train_img/a/C_101232010.png', './train_img/a/C_101733040.png', './train_img/a/C_101733030.png', './train_img/a/C_101733020.png', './train_img/a/C_101733010.png', './train_img/a/C_101722010.png', './train_img/a/C_101713020.png', './train_img/a/C_101713040.png', './train_img/a/C_101713050.png', './train_img/a/C_101723020.png', './train_img/a/C_101713030.png', './train_img/a/C_101723010.png', './train_img/a/C_101713010.png', './train_img/a/C_101623010.png', './train_img/a/C_101633010.png', './train_img/a/C_101432020.png', './train_img/a/C_101432010.png', './train_img/a/C_101522010.png', './train_img/a/C_101332010.png', './train_img/a/C_101532010.png', './train_img/a/C_101422010.png', './train_img/a/C_101333010.png', './train_img/a/C_101322010.png', './train_img/a/C_101312030.png', './train_img/a/C_101312020.png', './train_img/a/C_100723010.png', './train_img/a/C_100222010.png', './train_img/a/C_100713030.png', './train_img/a/C_100713010.png', './train_img/a/C_100012010.png', './train_img/a/C_100713020.png', './train_img/a/C_102312040.png', './train_img/a/C_102533010.png', './train_img/a/C_102432030.png', './train_img/a/C_102232020.png', './train_img/a/C_102723010.png', './train_img/a/C_102713010.png', './train_img/a/C_102632020.png', './train_img/a/C_102312050.png', './train_img/a/C_102442010.png', './train_img/a/C_102533020.png']\n"
          ]
        }
      ]
    },
    {
      "cell_type": "code",
      "source": [
        "test_img_paths = []\n",
        "test_labels=[]\n",
        "for root,subdir,files in os.walk(\"./test_img/\") :\n",
        "    for s in subdir : \n",
        "      for r, d ,f in os.walk(root+s):\n",
        "        for file in f:\n",
        "          test_labels.append(os.path.join(r, file).split('/')[-2])\n",
        "          test_img_paths.append(os.path.join(r, file))\n",
        "test_img_num = len(test_img_paths)\n",
        "print(test_img_paths)"
      ],
      "metadata": {
        "colab": {
          "base_uri": "https://localhost:8080/"
        },
        "id": "jDuGF_QDmS1w",
        "outputId": "0ed843ad-9ec6-47f9-92de-8057b3244b46"
      },
      "execution_count": null,
      "outputs": [
        {
          "output_type": "stream",
          "name": "stdout",
          "text": [
            "['./test_img/f/C_125011020.png', './test_img/f/C_125811030.png', './test_img/f/C_125711010.png', './test_img/f/C_125521010.png', './test_img/f/C_125221010.png', './test_img/f/C_125211030.png', './test_img/f/C_125131010.png', './test_img/f/C_125121010.png', './test_img/f/C_125111010.png', './test_img/f/C_125011010.png', './test_img/a/C_123733010.png', './test_img/a/C_123713010.png', './test_img/a/C_123723010.png', './test_img/a/C_124713010.png', './test_img/a/C_124733010.png', './test_img/a/C_125032010.png', './test_img/a/C_125733010.png', './test_img/a/C_125633010.png', './test_img/a/C_125723010.png', './test_img/a/C_125713010.png', './test_img/s/C_125514010.png', './test_img/s/C_125434010.png', './test_img/s/C_125214010.png', './test_img/s/C_125014010.png', './test_img/s/C_125814010.png', './test_img/s/C_125614010.png', './test_img/s/C_125414010.png', './test_img/s/C_125314020.png', './test_img/s/C_125134010.png', './test_img/s/C_125524010.png']\n"
          ]
        }
      ]
    },
    {
      "cell_type": "code",
      "source": [
        "def img_to_matrix(img):\n",
        "    img_array = np.asarray(img)\n",
        "    return img_array\n",
        "def flatten_img(img_array):\n",
        "    s = img_array.shape[0] * img_array.shape[1] * img_array.shape[2]\n",
        "    img_width = img_array.reshape(1, s)\n",
        "    return img_width[0]\n",
        "\n",
        "train_dataset = []\n",
        "for i in train_img_paths:\n",
        "    img = Image.open(i)\n",
        "    img = img.resize((int(1232/4), int(1754/4)), Image.BICUBIC)\n",
        "    img = img_to_matrix(img)\n",
        "    img = flatten_img(img)\n",
        "    train_dataset.append(img)\n",
        "train_dataset = np.array(train_dataset)\n",
        "print(train_dataset.shape)\n",
        "\n",
        "test_dataset = []\n",
        "for i in test_img_paths:\n",
        "    img = Image.open(i)\n",
        "    img = img.resize((int(1232/4), int(1754/4)), Image.BICUBIC)\n",
        "    img = img_to_matrix(img)\n",
        "    img = flatten_img(img)\n",
        "    test_dataset.append(img)\n",
        "test_dataset = np.array(test_dataset)\n",
        "print(test_dataset.shape)\n",
        "print(\"Dataset make done.\")"
      ],
      "metadata": {
        "colab": {
          "base_uri": "https://localhost:8080/"
        },
        "id": "vUb9BIeXDQBP",
        "outputId": "91f2fcdb-b502-4bb9-f45f-f68eee23dd14"
      },
      "execution_count": null,
      "outputs": [
        {
          "output_type": "stream",
          "name": "stdout",
          "text": [
            "(150, 539616)\n",
            "(30, 539616)\n",
            "Dataset make done.\n"
          ]
        }
      ]
    },
    {
      "cell_type": "code",
      "source": [
        "# 次元数圧縮\n",
        "n = train_dataset.shape[0]\n",
        "print(n)\n",
        "batch_size = 3\n",
        "ipca = IncrementalPCA(n_components=batch_size-1)\n",
        "for i in range(n//batch_size):\n",
        "    train_r_dataset = ipca.partial_fit(train_dataset[i*batch_size:(i+1)*batch_size])\n",
        "\n",
        "train_r_dataset = ipca.transform(train_dataset)\n",
        "print(train_r_dataset.shape)\n",
        "\n",
        "n = test_dataset.shape[0]\n",
        "for i in range(n//batch_size):\n",
        "    test_r_dataset = ipca.partial_fit(test_dataset[i*batch_size:(i+1)*batch_size])\n",
        "test_r_dataset = ipca.transform(test_dataset)\n",
        "print(test_r_dataset.shape)\n",
        "print(\"PCA done.\")"
      ],
      "metadata": {
        "colab": {
          "base_uri": "https://localhost:8080/"
        },
        "id": "7kK2kviz48dK",
        "outputId": "874b2512-62ff-422a-f1e5-912363361603"
      },
      "execution_count": null,
      "outputs": [
        {
          "output_type": "stream",
          "name": "stdout",
          "text": [
            "150\n",
            "(150, 2)\n",
            "(30, 2)\n",
            "PCA done.\n"
          ]
        }
      ]
    },
    {
      "cell_type": "code",
      "source": [
        "clf = svm.SVC()\n",
        "clf.fit(train_r_dataset,train_labels)\n",
        "\n",
        "pred = clf.predict(test_r_dataset)\n",
        "\n",
        "ac_score = metrics.accuracy_score(test_labels, pred)\n",
        "cl_score = metrics.classification_report(test_labels, pred)\n",
        "print('正解率：',ac_score)\n",
        "print('レポート:')\n",
        "print(cl_score)"
      ],
      "metadata": {
        "colab": {
          "base_uri": "https://localhost:8080/"
        },
        "id": "YDpn3cjTYWUj",
        "outputId": "44e7179a-541c-4639-b8ff-affb014f26ea"
      },
      "execution_count": null,
      "outputs": [
        {
          "output_type": "stream",
          "name": "stdout",
          "text": [
            "正解率： 0.9666666666666667\n",
            "レポート:\n",
            "              precision    recall  f1-score   support\n",
            "\n",
            "           a       1.00      0.90      0.95        10\n",
            "           f       1.00      1.00      1.00        10\n",
            "           s       0.91      1.00      0.95        10\n",
            "\n",
            "    accuracy                           0.97        30\n",
            "   macro avg       0.97      0.97      0.97        30\n",
            "weighted avg       0.97      0.97      0.97        30\n",
            "\n"
          ]
        }
      ]
    },
    {
      "cell_type": "code",
      "source": [
        "x_min, x_max = train_r_dataset[:,0].min() - 1000, train_r_dataset[:,0].max() + 1000 # max & min with margin 1000\n",
        "y_min, y_max = train_r_dataset[:,1].min() - 1000, train_r_dataset[:,1].max() + 1000 \n",
        "xx, yy = np.meshgrid(np.linspace(x_min, x_max, 300), np.linspace(y_min, y_max, 300))\n",
        "\n",
        "import matplotlib.cm as cm  # color m\n",
        "\n",
        "Z = clf.predict(np.c_[xx.ravel(), yy.ravel()])\n",
        "Z = Z.reshape(xx.shape)\n",
        "for z in range(len(Z)):\n",
        "  for i in range(len(Z[z])):\n",
        "    if(Z[z][i]=='s'):\n",
        "      Z[z][i]=1\n",
        "    elif (Z[z][i]=='a'):\n",
        "      Z[z][i]=2\n",
        "    else:\n",
        "      Z[z][i]=3\n",
        "plt.contourf(xx, yy, Z, cmap = cm.cool, alpha= 0.8)\n",
        "\n",
        "for i in range(len(train_labels)):\n",
        "  if(train_labels[i]=='s'):\n",
        "    plt.scatter(train_r_dataset[i,0], train_r_dataset[i, 1], marker='x',c=\"red\")\n",
        "  if(train_labels[i]=='a'):\n",
        "    plt.scatter(train_r_dataset[i,0], train_r_dataset[i, 1], marker='2',c=\"green\")\n",
        "  if(train_labels[i]=='f'):\n",
        "    plt.scatter(train_r_dataset[i,0], train_r_dataset[i, 1], marker='o',c=\"blue\")\n",
        "\n",
        "# Title and X-axis, Y-axis\n",
        "plt.xlabel('x1')\n",
        "plt.ylabel('x2')\n",
        "plt.title('SVM')\n",
        "plt.xlim(xx.min(), xx.max())\n",
        "plt.ylim(yy.min(), yy.max())\n"
      ],
      "metadata": {
        "colab": {
          "base_uri": "https://localhost:8080/",
          "height": 313
        },
        "id": "zNxSaNhCDxbW",
        "outputId": "3985fdce-8aba-4f2e-9644-8d9ff5e0745c"
      },
      "execution_count": null,
      "outputs": [
        {
          "output_type": "execute_result",
          "data": {
            "text/plain": [
              "(-29089.287607970782, 36237.07980205031)"
            ]
          },
          "metadata": {},
          "execution_count": 103
        },
        {
          "output_type": "display_data",
          "data": {
            "text/plain": [
              "<Figure size 432x288 with 1 Axes>"
            ],
            "image/png": "[encoded data removed]"
          },
          "metadata": {
            "needs_background": "light"
          }
        }
      ]
    },
    {
      "cell_type": "code",
      "source": [
        "x_min, x_max = test_r_dataset[:,0].min() - 1000, test_r_dataset[:,0].max() + 1000 # max & min with margin 1000\n",
        "y_min, y_max = test_r_dataset[:,1].min() - 1000, test_r_dataset[:,1].max() + 1000 \n",
        "xx, yy = np.meshgrid(np.linspace(x_min, x_max, 300), np.linspace(y_min, y_max, 300))\n",
        "\n",
        "Z = clf.predict(np.c_[xx.ravel(), yy.ravel()])\n",
        "Z = Z.reshape(xx.shape)\n",
        "for z in range(len(Z)):\n",
        "  for i in range(len(Z[z])):\n",
        "    if(Z[z][i]=='s'):\n",
        "      Z[z][i]=1\n",
        "    elif (Z[z][i]=='a'):\n",
        "      Z[z][i]=2\n",
        "    else:\n",
        "      Z[z][i]=3\n",
        "plt.contourf(xx, yy, Z, cmap = cm.cool, alpha= 0.8)\n",
        "\n",
        "for i in range(len(test_labels)):\n",
        "  if(test_labels[i]=='s'):\n",
        "    plt.scatter(test_r_dataset[i,0], test_r_dataset[i, 1], marker='x',c=\"red\")\n",
        "  if(test_labels[i]=='a'):\n",
        "    plt.scatter(test_r_dataset[i,0], test_r_dataset[i, 1], marker='2',c=\"green\")\n",
        "  if(test_labels[i]=='f'):\n",
        "    plt.scatter(test_r_dataset[i,0], test_r_dataset[i, 1], marker='o',c=\"blue\")\n",
        "\n",
        "# Title and X-axis, Y-axis\n",
        "plt.xlabel('x1')\n",
        "plt.ylabel('x2')\n",
        "plt.title('SVM')\n",
        "plt.xlim(xx.min(), xx.max())\n",
        "plt.ylim(yy.min(), yy.max())"
      ],
      "metadata": {
        "colab": {
          "base_uri": "https://localhost:8080/",
          "height": 313
        },
        "id": "5u98ssxQOC9h",
        "outputId": "c07a8ea9-0d84-4a59-87af-3ccdcd253032"
      },
      "execution_count": null,
      "outputs": [
        {
          "output_type": "execute_result",
          "data": {
            "text/plain": [
              "(-27677.181912171367, 25409.888894814434)"
            ]
          },
          "metadata": {},
          "execution_count": 104
        },
        {
          "output_type": "display_data",
          "data": {
            "text/plain": [
              "<Figure size 432x288 with 1 Axes>"
            ],
            "image/png": "[encoded data removed]"
          },
          "metadata": {
            "needs_background": "light"
          }
        }
      ]
    }
  ]
}